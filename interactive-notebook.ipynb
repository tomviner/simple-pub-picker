{
 "cells": [
  {
   "cell_type": "code",
   "execution_count": 1,
   "id": "48116473",
   "metadata": {},
   "outputs": [
    {
     "name": "stdout",
     "output_type": "stream",
     "text": [
      "{'name': 'the Pavilion End', 'rating': '4.2', 'tags': 'contemporary terrace beer'}\n"
     ]
    }
   ],
   "source": [
    "import csv\n",
    "import webbrowser\n",
    "\n",
    "with open('data.csv') as f:\n",
    "    pubs = list(csv.DictReader(f))\n",
    "\n",
    "print(pubs[0])"
   ]
  },
  {
   "cell_type": "code",
   "execution_count": 2,
   "id": "72585bdb",
   "metadata": {},
   "outputs": [
    {
     "data": {
      "text/plain": [
       "{'name': 'Punch Tavern', 'rating': '4.5', 'tags': 'Victorian food cocktail'}"
      ]
     },
     "execution_count": 2,
     "metadata": {},
     "output_type": "execute_result"
    }
   ],
   "source": [
    "def get_rating(pub):\n",
    "    return pub[\"rating\"]\n",
    "    \n",
    "def find_best_restaurant(pubs):\n",
    "    return max(pubs, key=get_rating)\n",
    "    \n",
    "find_best_restaurant(pubs)"
   ]
  },
  {
   "cell_type": "code",
   "execution_count": 3,
   "id": "b8f8f313",
   "metadata": {},
   "outputs": [],
   "source": [
    "#select pub by tag (serve food or not, cocktail or beers)\n",
    "\n",
    "def select_pub_by_tags(pubs, tags):\n",
    "    for pub in pubs:\n",
    "        if all(tag in pub['tags'] for tag in tags):\n",
    "            yield(pub)\n",
    "                \n",
    "            \n",
    "# pubs_with_beer= select_pub_by_tags(pubs, ['beer', 'food'])"
   ]
  },
  {
   "cell_type": "code",
   "execution_count": 4,
   "id": "b2e86a17",
   "metadata": {},
   "outputs": [
    {
     "name": "stdout",
     "output_type": "stream",
     "text": [
      "what kind establishment do you want? food\n"
     ]
    }
   ],
   "source": [
    "answer = input('what kind establishment do you want? ')"
   ]
  },
  {
   "cell_type": "code",
   "execution_count": 5,
   "id": "42471ed0",
   "metadata": {},
   "outputs": [],
   "source": [
    "a=answer.split()"
   ]
  },
  {
   "cell_type": "code",
   "execution_count": 6,
   "id": "ba6ceb66",
   "metadata": {},
   "outputs": [],
   "source": [
    "pubs_with_beer = list(select_pub_by_tags(pubs, a))\n"
   ]
  },
  {
   "cell_type": "code",
   "execution_count": 7,
   "id": "3431b243",
   "metadata": {},
   "outputs": [],
   "source": [
    "best_pub = find_best_restaurant(pubs_with_beer)"
   ]
  },
  {
   "cell_type": "code",
   "execution_count": 8,
   "id": "cd0ba3c4",
   "metadata": {},
   "outputs": [],
   "source": [
    "def open_pub_in_google (pub):\n",
    "    url= f'https://www.google.com/search?q={pub[\"name\"]}'\n",
    "    webbrowser.open(url)\n",
    "    \n",
    "    \n",
    "open_pub_in_google(best_pub)"
   ]
  }
 ],
 "metadata": {
  "kernelspec": {
   "display_name": "Python 3 (ipykernel)",
   "language": "python",
   "name": "python3"
  },
  "language_info": {
   "codemirror_mode": {
    "name": "ipython",
    "version": 3
   },
   "file_extension": ".py",
   "mimetype": "text/x-python",
   "name": "python",
   "nbconvert_exporter": "python",
   "pygments_lexer": "ipython3",
   "version": "3.10.7"
  }
 },
 "nbformat": 4,
 "nbformat_minor": 5
}
